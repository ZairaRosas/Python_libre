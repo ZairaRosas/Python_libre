{
 "cells": [
  {
   "cell_type": "code",
   "execution_count": 2,
   "id": "30d97147-7724-4000-b864-66c38b0cdaf1",
   "metadata": {},
   "outputs": [],
   "source": [
    "import geopandas as gpd"
   ]
  },
  {
   "cell_type": "code",
   "execution_count": 3,
   "id": "bca826dc-807b-4a0a-b79d-33b50e46d299",
   "metadata": {},
   "outputs": [
    {
     "data": {
      "text/html": [
       "<div>\n",
       "<style scoped>\n",
       "    .dataframe tbody tr th:only-of-type {\n",
       "        vertical-align: middle;\n",
       "    }\n",
       "\n",
       "    .dataframe tbody tr th {\n",
       "        vertical-align: top;\n",
       "    }\n",
       "\n",
       "    .dataframe thead th {\n",
       "        text-align: right;\n",
       "    }\n",
       "</style>\n",
       "<table border=\"1\" class=\"dataframe\">\n",
       "  <thead>\n",
       "    <tr style=\"text-align: right;\">\n",
       "      <th></th>\n",
       "      <th>VALUE</th>\n",
       "      <th>geometry</th>\n",
       "    </tr>\n",
       "  </thead>\n",
       "  <tbody>\n",
       "    <tr>\n",
       "      <th>0</th>\n",
       "      <td>89.918266</td>\n",
       "      <td>POLYGON ((2360172.516 964992.209, 2360172.516 ...</td>\n",
       "    </tr>\n",
       "    <tr>\n",
       "      <th>1</th>\n",
       "      <td>89.976471</td>\n",
       "      <td>POLYGON ((2360182.516 964992.209, 2360182.516 ...</td>\n",
       "    </tr>\n",
       "    <tr>\n",
       "      <th>2</th>\n",
       "      <td>90.001335</td>\n",
       "      <td>POLYGON ((2360192.516 964992.209, 2360192.516 ...</td>\n",
       "    </tr>\n",
       "    <tr>\n",
       "      <th>3</th>\n",
       "      <td>89.993446</td>\n",
       "      <td>POLYGON ((2360202.516 964992.209, 2360202.516 ...</td>\n",
       "    </tr>\n",
       "    <tr>\n",
       "      <th>4</th>\n",
       "      <td>89.953079</td>\n",
       "      <td>POLYGON ((2360212.516 964992.209, 2360212.516 ...</td>\n",
       "    </tr>\n",
       "    <tr>\n",
       "      <th>...</th>\n",
       "      <td>...</td>\n",
       "      <td>...</td>\n",
       "    </tr>\n",
       "    <tr>\n",
       "      <th>130</th>\n",
       "      <td>90.129868</td>\n",
       "      <td>POLYGON ((2360162.516 964882.209, 2360162.516 ...</td>\n",
       "    </tr>\n",
       "    <tr>\n",
       "      <th>131</th>\n",
       "      <td>90.078461</td>\n",
       "      <td>POLYGON ((2360172.516 964882.209, 2360172.516 ...</td>\n",
       "    </tr>\n",
       "    <tr>\n",
       "      <th>132</th>\n",
       "      <td>89.994057</td>\n",
       "      <td>POLYGON ((2360182.516 964882.209, 2360182.516 ...</td>\n",
       "    </tr>\n",
       "    <tr>\n",
       "      <th>133</th>\n",
       "      <td>89.923042</td>\n",
       "      <td>POLYGON ((2360142.516 964872.209, 2360142.516 ...</td>\n",
       "    </tr>\n",
       "    <tr>\n",
       "      <th>134</th>\n",
       "      <td>89.924973</td>\n",
       "      <td>POLYGON ((2360152.516 964872.209, 2360152.516 ...</td>\n",
       "    </tr>\n",
       "  </tbody>\n",
       "</table>\n",
       "<p>135 rows × 2 columns</p>\n",
       "</div>"
      ],
      "text/plain": [
       "         VALUE                                           geometry\n",
       "0    89.918266  POLYGON ((2360172.516 964992.209, 2360172.516 ...\n",
       "1    89.976471  POLYGON ((2360182.516 964992.209, 2360182.516 ...\n",
       "2    90.001335  POLYGON ((2360192.516 964992.209, 2360192.516 ...\n",
       "3    89.993446  POLYGON ((2360202.516 964992.209, 2360202.516 ...\n",
       "4    89.953079  POLYGON ((2360212.516 964992.209, 2360212.516 ...\n",
       "..         ...                                                ...\n",
       "130  90.129868  POLYGON ((2360162.516 964882.209, 2360162.516 ...\n",
       "131  90.078461  POLYGON ((2360172.516 964882.209, 2360172.516 ...\n",
       "132  89.994057  POLYGON ((2360182.516 964882.209, 2360182.516 ...\n",
       "133  89.923042  POLYGON ((2360142.516 964872.209, 2360142.516 ...\n",
       "134  89.924973  POLYGON ((2360152.516 964872.209, 2360152.516 ...\n",
       "\n",
       "[135 rows x 2 columns]"
      ]
     },
     "execution_count": 3,
     "metadata": {},
     "output_type": "execute_result"
    }
   ],
   "source": [
    "gdf1 = gpd.read_file(r'/Users/mac/Desktop/Beibi/SHP/classes/selec_88_9__91_9.shp')\n",
    "gdf1"
   ]
  },
  {
   "cell_type": "code",
   "execution_count": 4,
   "id": "52c49e2b-59d5-4f1d-8cc6-61a4e19d115f",
   "metadata": {},
   "outputs": [
    {
     "data": {
      "text/html": [
       "<div>\n",
       "<style scoped>\n",
       "    .dataframe tbody tr th:only-of-type {\n",
       "        vertical-align: middle;\n",
       "    }\n",
       "\n",
       "    .dataframe tbody tr th {\n",
       "        vertical-align: top;\n",
       "    }\n",
       "\n",
       "    .dataframe thead th {\n",
       "        text-align: right;\n",
       "    }\n",
       "</style>\n",
       "<table border=\"1\" class=\"dataframe\">\n",
       "  <thead>\n",
       "    <tr style=\"text-align: right;\">\n",
       "      <th></th>\n",
       "      <th>geometry</th>\n",
       "      <th>VALUE</th>\n",
       "    </tr>\n",
       "  </thead>\n",
       "  <tbody>\n",
       "    <tr>\n",
       "      <th>0</th>\n",
       "      <td>POLYGON ((2360162.516 964882.209, 2360162.516 ...</td>\n",
       "      <td>89.918266</td>\n",
       "    </tr>\n",
       "  </tbody>\n",
       "</table>\n",
       "</div>"
      ],
      "text/plain": [
       "                                            geometry      VALUE\n",
       "0  POLYGON ((2360162.516 964882.209, 2360162.516 ...  89.918266"
      ]
     },
     "execution_count": 4,
     "metadata": {},
     "output_type": "execute_result"
    }
   ],
   "source": [
    "gdf_diss1 = gdf1.dissolve()\n",
    "gdf_diss1"
   ]
  },
  {
   "cell_type": "code",
   "execution_count": 5,
   "id": "f57f8587-d190-4e8d-936b-62244dff0447",
   "metadata": {},
   "outputs": [],
   "source": [
    "gdf_diss1.to_file(r'/Users/mac/Desktop/Beibi/SHP/classes/diss/diss_selec_88_9__91_9.shp')"
   ]
  },
  {
   "cell_type": "code",
   "execution_count": null,
   "id": "2f7df0d9-b8fd-4120-bbb5-73e383b25ffc",
   "metadata": {},
   "outputs": [],
   "source": []
  }
 ],
 "metadata": {
  "kernelspec": {
   "display_name": "Python 3 (ipykernel)",
   "language": "python",
   "name": "python3"
  },
  "language_info": {
   "codemirror_mode": {
    "name": "ipython",
    "version": 3
   },
   "file_extension": ".py",
   "mimetype": "text/x-python",
   "name": "python",
   "nbconvert_exporter": "python",
   "pygments_lexer": "ipython3",
   "version": "3.9.6"
  }
 },
 "nbformat": 4,
 "nbformat_minor": 5
}
